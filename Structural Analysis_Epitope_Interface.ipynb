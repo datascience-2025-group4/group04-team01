{
 "cells": [
  {
   "cell_type": "code",
   "execution_count": null,
   "metadata": {
    "vscode": {
     "languageId": "plaintext"
    }
   },
   "outputs": [],
   "source": [
    "# Import statements\n",
    "import numpy as numpy\n",
    "import pandas as pd\n",
    "import seaborn as sns #for plotting\n",
    "import matplotlib.pyplot as plt\n",
    "import random"
   ]
  },
  {
   "cell_type": "code",
   "execution_count": null,
   "metadata": {
    "vscode": {
     "languageId": "plaintext"
    }
   },
   "outputs": [],
   "source": [
    "# Define datasets for individual inhibitory checkpoints\n",
    "data = pd.read_csv('data/ab_ag.tsv', sep='\\t')\n",
    "pd1 = data[data['compound'].str.contains('PD-1', na=False)]\n",
    "pdl1 = data[data['compound'].str.contains('PD-L1', na=False)]\n",
    "ctla4 = data[data['compound'].str.contains('CTLA-4', na=False)]\n",
    "kir = data[data['compound'].str.contains('KIR', na=False)]\n",
    "lag3 = data[data['compound'].str.contains('LAG', na=False)]\n",
    "tim3 = data[data['compound'].str.contains('TIM3', na=False)]"
   ]
  },
  {
   "cell_type": "code",
   "execution_count": null,
   "metadata": {
    "vscode": {
     "languageId": "plaintext"
    }
   },
   "outputs": [],
   "source": [
    "# Filter out necessary columns\n",
    "pd1 = pd1[['pdb', 'Hchain', 'Lchain', 'antigen_chain', 'antigen_type', 'antigen_name', 'compound', 'resolution', 'method']]\n",
    "pdl1 = pdl1[['pdb', 'Hchain', 'Lchain', 'antigen_chain', 'antigen_type', 'antigen_name', 'compound', 'resolution', 'method']]\n",
    "ctla4 = ctla4[['pdb', 'Hchain', 'Lchain', 'antigen_chain', 'antigen_type', 'antigen_name', 'compound', 'resolution', 'method']]\n",
    "kir = kir[['pdb', 'Hchain', 'Lchain', 'antigen_chain', 'antigen_type', 'antigen_name', 'compound', 'resolution', 'method']]\n",
    "lag3 = lag3[['pdb', 'Hchain', 'Lchain', 'antigen_chain', 'antigen_type', 'antigen_name', 'compound', 'resolution', 'method']]\n",
    "tim3 = tim3[['pdb', 'Hchain', 'Lchain', 'antigen_chain', 'antigen_type', 'antigen_name', 'compound', 'resolution', 'method']]"
   ]
  },
  {
   "cell_type": "code",
   "execution_count": null,
   "metadata": {
    "vscode": {
     "languageId": "plaintext"
    }
   },
   "outputs": [],
   "source": [
    "combined_dataset = [pdl1, pd1, ctla4, kir, lag3, tim3]\n",
    "\n",
    "# Shuffle the list randomly\n",
    "random.shuffle(combined_dataset)\n",
    "\n",
    "# Concatenate them in the new random order\n",
    "merged_df = pd.concat(combined_dataset, ignore_index=True)\n",
    "shuffled_df = merged_df.sample(frac=1).reset_index(drop=True)"
   ]
  },
  {
   "cell_type": "code",
   "execution_count": null,
   "metadata": {
    "vscode": {
     "languageId": "plaintext"
    }
   },
   "outputs": [],
   "source": [
    "shuffled_df = shuffled_df[shuffled_df['resolution'] < 3.5]\n",
    "shuffled_df = shuffled_df.dropna()"
   ]
  }
 ],
 "metadata": {
  "language_info": {
   "name": "python"
  }
 },
 "nbformat": 4,
 "nbformat_minor": 2
}
