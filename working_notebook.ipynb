{
 "cells": [
  {
   "cell_type": "code",
   "execution_count": 5,
   "metadata": {},
   "outputs": [],
   "source": [
    "# Import statements\n",
    "import numpy as numpy\n",
    "import pandas as pd\n",
    "import random"
   ]
  },
  {
   "cell_type": "code",
   "execution_count": 6,
   "metadata": {},
   "outputs": [],
   "source": [
    "# Define datasets for individual inhibitory checkpoints\n",
    "data = pd.read_csv('data/ab_ag.tsv', sep='\\t')\n",
    "pd1 = data[data['compound'].str.contains('PD-1', na=False)]\n",
    "pdl1 = data[data['compound'].str.contains('PDL-1', na=False)]\n",
    "ctla4 = data[data['compound'].str.contains('CTLA-4', na=False)]\n",
    "kir = data[data['compound'].str.contains('KIR', na=False)]\n",
    "lag3 = data[data['compound'].str.contains('LAG', na=False)]\n",
    "tim3 = data[data['compound'].str.contains('TIM3', na=False)]"
   ]
  },
  {
   "cell_type": "code",
   "execution_count": 7,
   "metadata": {},
   "outputs": [],
   "source": [
    "# Filter out necessary columns\n",
    "pd1 = pd1[['pdb', 'Hchain', 'Lchain', 'antigen_chain', 'antigen_type', 'antigen_name', 'compound', 'resolution', 'method']]\n",
    "pdl1 = pdl1[['pdb', 'Hchain', 'Lchain', 'antigen_chain', 'antigen_type', 'antigen_name', 'compound', 'resolution', 'method']]\n",
    "ctla4 = ctla4[['pdb', 'Hchain', 'Lchain', 'antigen_chain', 'antigen_type', 'antigen_name', 'compound', 'resolution', 'method']]\n",
    "kir = kir[['pdb', 'Hchain', 'Lchain', 'antigen_chain', 'antigen_type', 'antigen_name', 'compound', 'resolution', 'method']]\n",
    "lag3 = lag3[['pdb', 'Hchain', 'Lchain', 'antigen_chain', 'antigen_type', 'antigen_name', 'compound', 'resolution', 'method']]\n",
    "tim3 = tim3[['pdb', 'Hchain', 'Lchain', 'antigen_chain', 'antigen_type', 'antigen_name', 'compound', 'resolution', 'method']]"
   ]
  },
  {
   "cell_type": "code",
   "execution_count": 19,
   "metadata": {},
   "outputs": [],
   "source": [
    "combined_dataset = [pdl1, pd1, ctla4, kir, lag3, tim3]\n",
    "\n",
    "# Shuffle the list randomly\n",
    "random.shuffle(combined_dataset)\n",
    "\n",
    "# Concatenate them in the new random order\n",
    "merged_df = pd.concat(combined_dataset, ignore_index=True)\n",
    "shuffled_df = merged_df.sample(frac=1).reset_index(drop=True)"
   ]
  },
  {
   "cell_type": "code",
   "execution_count": 9,
   "metadata": {},
   "outputs": [
    {
     "data": {
      "application/vnd.microsoft.datawrangler.viewer.v0+json": {
       "columns": [
        {
         "name": "index",
         "rawType": "int64",
         "type": "integer"
        },
        {
         "name": "pdb",
         "rawType": "object",
         "type": "string"
        },
        {
         "name": "Hchain",
         "rawType": "object",
         "type": "string"
        },
        {
         "name": "Lchain",
         "rawType": "object",
         "type": "string"
        },
        {
         "name": "antigen_chain",
         "rawType": "object",
         "type": "string"
        },
        {
         "name": "antigen_type",
         "rawType": "object",
         "type": "string"
        },
        {
         "name": "antigen_name",
         "rawType": "object",
         "type": "string"
        },
        {
         "name": "compound",
         "rawType": "object",
         "type": "string"
        },
        {
         "name": "resolution",
         "rawType": "float64",
         "type": "float"
        },
        {
         "name": "method",
         "rawType": "object",
         "type": "string"
        }
       ],
       "conversionMethod": "pd.DataFrame",
       "ref": "81b568a4-6f5b-4976-8d47-3152b95ced74",
       "rows": [
        [
         "0",
         "7su1",
         "H",
         "L",
         "C",
         "protein",
         "cytotoxic t-lymphocyte protein 4",
         "Crystal structure of an acidic pH-selective Ipilimumab variant Ipi.106 in complex with CTLA-4",
         "2.53",
         "X-RAY DIFFRACTION"
        ],
        [
         "1",
         "9dq3",
         "H",
         "L",
         "C",
         "protein",
         "cytotoxic t-lymphocyte protein 4",
         "Crystal structure of engineered Ipilimumab (mipi.4) Fab in complex with human CTLA-4",
         "1.64",
         "X-RAY DIFFRACTION"
        ],
        [
         "2",
         "5jxe",
         "G",
         "F",
         "A",
         "protein",
         "programmed cell death protein 1",
         "Human PD-1 ectodomain complexed with Pembrolizumab Fab",
         "2.9",
         "X-RAY DIFFRACTION"
        ],
        [
         "3",
         "5b8c",
         "K",
         "J",
         "L",
         "protein",
         "programmed cell death protein 1",
         "High resolution structure of the human PD-1 in complex with pembrolizumab Fv",
         "2.146",
         "X-RAY DIFFRACTION"
        ],
        [
         "4",
         "8as0",
         "Q",
         "P",
         "R",
         "protein",
         "programmed cell death protein 1",
         "PD-1 extracellular domain in complex with Fab fragment from D12 antibody",
         "3.5",
         "X-RAY DIFFRACTION"
        ],
        [
         "5",
         "5ggv",
         "H",
         "L",
         "Y",
         "protein",
         "cytotoxic t-lymphocyte protein 4",
         "CTLA-4 in complex with tremelimumab Fab",
         "1.998",
         "X-RAY DIFFRACTION"
        ],
        [
         "6",
         "7elx",
         "h",
         "l",
         "c",
         "protein",
         "unknown",
         "The crystal structure of CTLA-4 and Fab",
         "2.14",
         "X-RAY DIFFRACTION"
        ],
        [
         "7",
         "6txz",
         "K",
         "O",
         "D",
         "protein",
         "hepatitis a virus cellular receptor 2",
         "FAB PART OF M6903 IN COMPLEX WITH HUMAN TIM3",
         "3.06",
         "X-RAY DIFFRACTION"
        ],
        [
         "8",
         "8gy5",
         "A",
         "B",
         "Q",
         "protein",
         "programmed cell death protein 1",
         "High-resolution structure of the cemiplimab Fab in complex with PD-1",
         "1.98",
         "X-RAY DIFFRACTION"
        ],
        [
         "9",
         "6rp8",
         "H",
         "L",
         "C",
         "protein",
         "cytotoxic t-lymphocyte protein 4",
         "Crystal Structure of Ipilimumab Fab complexed with CTLA-4 at 2.6A resolution",
         "2.6",
         "X-RAY DIFFRACTION"
        ]
       ],
       "shape": {
        "columns": 9,
        "rows": 10
       }
      },
      "text/html": [
       "<div>\n",
       "<style scoped>\n",
       "    .dataframe tbody tr th:only-of-type {\n",
       "        vertical-align: middle;\n",
       "    }\n",
       "\n",
       "    .dataframe tbody tr th {\n",
       "        vertical-align: top;\n",
       "    }\n",
       "\n",
       "    .dataframe thead th {\n",
       "        text-align: right;\n",
       "    }\n",
       "</style>\n",
       "<table border=\"1\" class=\"dataframe\">\n",
       "  <thead>\n",
       "    <tr style=\"text-align: right;\">\n",
       "      <th></th>\n",
       "      <th>pdb</th>\n",
       "      <th>Hchain</th>\n",
       "      <th>Lchain</th>\n",
       "      <th>antigen_chain</th>\n",
       "      <th>antigen_type</th>\n",
       "      <th>antigen_name</th>\n",
       "      <th>compound</th>\n",
       "      <th>resolution</th>\n",
       "      <th>method</th>\n",
       "    </tr>\n",
       "  </thead>\n",
       "  <tbody>\n",
       "    <tr>\n",
       "      <th>0</th>\n",
       "      <td>7su1</td>\n",
       "      <td>H</td>\n",
       "      <td>L</td>\n",
       "      <td>C</td>\n",
       "      <td>protein</td>\n",
       "      <td>cytotoxic t-lymphocyte protein 4</td>\n",
       "      <td>Crystal structure of an acidic pH-selective Ip...</td>\n",
       "      <td>2.530</td>\n",
       "      <td>X-RAY DIFFRACTION</td>\n",
       "    </tr>\n",
       "    <tr>\n",
       "      <th>1</th>\n",
       "      <td>9dq3</td>\n",
       "      <td>H</td>\n",
       "      <td>L</td>\n",
       "      <td>C</td>\n",
       "      <td>protein</td>\n",
       "      <td>cytotoxic t-lymphocyte protein 4</td>\n",
       "      <td>Crystal structure of engineered Ipilimumab (mi...</td>\n",
       "      <td>1.640</td>\n",
       "      <td>X-RAY DIFFRACTION</td>\n",
       "    </tr>\n",
       "    <tr>\n",
       "      <th>2</th>\n",
       "      <td>5jxe</td>\n",
       "      <td>G</td>\n",
       "      <td>F</td>\n",
       "      <td>A</td>\n",
       "      <td>protein</td>\n",
       "      <td>programmed cell death protein 1</td>\n",
       "      <td>Human PD-1 ectodomain complexed with Pembroliz...</td>\n",
       "      <td>2.900</td>\n",
       "      <td>X-RAY DIFFRACTION</td>\n",
       "    </tr>\n",
       "    <tr>\n",
       "      <th>3</th>\n",
       "      <td>5b8c</td>\n",
       "      <td>K</td>\n",
       "      <td>J</td>\n",
       "      <td>L</td>\n",
       "      <td>protein</td>\n",
       "      <td>programmed cell death protein 1</td>\n",
       "      <td>High resolution structure of the human PD-1 in...</td>\n",
       "      <td>2.146</td>\n",
       "      <td>X-RAY DIFFRACTION</td>\n",
       "    </tr>\n",
       "    <tr>\n",
       "      <th>4</th>\n",
       "      <td>8as0</td>\n",
       "      <td>Q</td>\n",
       "      <td>P</td>\n",
       "      <td>R</td>\n",
       "      <td>protein</td>\n",
       "      <td>programmed cell death protein 1</td>\n",
       "      <td>PD-1 extracellular domain in complex with Fab ...</td>\n",
       "      <td>3.500</td>\n",
       "      <td>X-RAY DIFFRACTION</td>\n",
       "    </tr>\n",
       "    <tr>\n",
       "      <th>5</th>\n",
       "      <td>5ggv</td>\n",
       "      <td>H</td>\n",
       "      <td>L</td>\n",
       "      <td>Y</td>\n",
       "      <td>protein</td>\n",
       "      <td>cytotoxic t-lymphocyte protein 4</td>\n",
       "      <td>CTLA-4 in complex with tremelimumab Fab</td>\n",
       "      <td>1.998</td>\n",
       "      <td>X-RAY DIFFRACTION</td>\n",
       "    </tr>\n",
       "    <tr>\n",
       "      <th>6</th>\n",
       "      <td>7elx</td>\n",
       "      <td>h</td>\n",
       "      <td>l</td>\n",
       "      <td>c</td>\n",
       "      <td>protein</td>\n",
       "      <td>unknown</td>\n",
       "      <td>The crystal structure of CTLA-4 and Fab</td>\n",
       "      <td>2.140</td>\n",
       "      <td>X-RAY DIFFRACTION</td>\n",
       "    </tr>\n",
       "    <tr>\n",
       "      <th>7</th>\n",
       "      <td>6txz</td>\n",
       "      <td>K</td>\n",
       "      <td>O</td>\n",
       "      <td>D</td>\n",
       "      <td>protein</td>\n",
       "      <td>hepatitis a virus cellular receptor 2</td>\n",
       "      <td>FAB PART OF M6903 IN COMPLEX WITH HUMAN TIM3</td>\n",
       "      <td>3.060</td>\n",
       "      <td>X-RAY DIFFRACTION</td>\n",
       "    </tr>\n",
       "    <tr>\n",
       "      <th>8</th>\n",
       "      <td>8gy5</td>\n",
       "      <td>A</td>\n",
       "      <td>B</td>\n",
       "      <td>Q</td>\n",
       "      <td>protein</td>\n",
       "      <td>programmed cell death protein 1</td>\n",
       "      <td>High-resolution structure of the cemiplimab Fa...</td>\n",
       "      <td>1.980</td>\n",
       "      <td>X-RAY DIFFRACTION</td>\n",
       "    </tr>\n",
       "    <tr>\n",
       "      <th>9</th>\n",
       "      <td>6rp8</td>\n",
       "      <td>H</td>\n",
       "      <td>L</td>\n",
       "      <td>C</td>\n",
       "      <td>protein</td>\n",
       "      <td>cytotoxic t-lymphocyte protein 4</td>\n",
       "      <td>Crystal Structure of Ipilimumab Fab complexed ...</td>\n",
       "      <td>2.600</td>\n",
       "      <td>X-RAY DIFFRACTION</td>\n",
       "    </tr>\n",
       "  </tbody>\n",
       "</table>\n",
       "</div>"
      ],
      "text/plain": [
       "    pdb Hchain Lchain antigen_chain antigen_type  \\\n",
       "0  7su1      H      L             C      protein   \n",
       "1  9dq3      H      L             C      protein   \n",
       "2  5jxe      G      F             A      protein   \n",
       "3  5b8c      K      J             L      protein   \n",
       "4  8as0      Q      P             R      protein   \n",
       "5  5ggv      H      L             Y      protein   \n",
       "6  7elx      h      l             c      protein   \n",
       "7  6txz      K      O             D      protein   \n",
       "8  8gy5      A      B             Q      protein   \n",
       "9  6rp8      H      L             C      protein   \n",
       "\n",
       "                            antigen_name  \\\n",
       "0       cytotoxic t-lymphocyte protein 4   \n",
       "1       cytotoxic t-lymphocyte protein 4   \n",
       "2        programmed cell death protein 1   \n",
       "3        programmed cell death protein 1   \n",
       "4        programmed cell death protein 1   \n",
       "5       cytotoxic t-lymphocyte protein 4   \n",
       "6                                unknown   \n",
       "7  hepatitis a virus cellular receptor 2   \n",
       "8        programmed cell death protein 1   \n",
       "9       cytotoxic t-lymphocyte protein 4   \n",
       "\n",
       "                                            compound  resolution  \\\n",
       "0  Crystal structure of an acidic pH-selective Ip...       2.530   \n",
       "1  Crystal structure of engineered Ipilimumab (mi...       1.640   \n",
       "2  Human PD-1 ectodomain complexed with Pembroliz...       2.900   \n",
       "3  High resolution structure of the human PD-1 in...       2.146   \n",
       "4  PD-1 extracellular domain in complex with Fab ...       3.500   \n",
       "5            CTLA-4 in complex with tremelimumab Fab       1.998   \n",
       "6            The crystal structure of CTLA-4 and Fab       2.140   \n",
       "7       FAB PART OF M6903 IN COMPLEX WITH HUMAN TIM3       3.060   \n",
       "8  High-resolution structure of the cemiplimab Fa...       1.980   \n",
       "9  Crystal Structure of Ipilimumab Fab complexed ...       2.600   \n",
       "\n",
       "              method  \n",
       "0  X-RAY DIFFRACTION  \n",
       "1  X-RAY DIFFRACTION  \n",
       "2  X-RAY DIFFRACTION  \n",
       "3  X-RAY DIFFRACTION  \n",
       "4  X-RAY DIFFRACTION  \n",
       "5  X-RAY DIFFRACTION  \n",
       "6  X-RAY DIFFRACTION  \n",
       "7  X-RAY DIFFRACTION  \n",
       "8  X-RAY DIFFRACTION  \n",
       "9  X-RAY DIFFRACTION  "
      ]
     },
     "execution_count": 9,
     "metadata": {},
     "output_type": "execute_result"
    }
   ],
   "source": [
    "shuffled_df.head(n=10)"
   ]
  },
  {
   "cell_type": "code",
   "execution_count": 18,
   "metadata": {},
   "outputs": [
    {
     "data": {
      "application/vnd.microsoft.datawrangler.viewer.v0+json": {
       "columns": [
        {
         "name": "index",
         "rawType": "int64",
         "type": "integer"
        },
        {
         "name": "pdb",
         "rawType": "object",
         "type": "string"
        },
        {
         "name": "Hchain",
         "rawType": "object",
         "type": "string"
        },
        {
         "name": "Lchain",
         "rawType": "object",
         "type": "string"
        },
        {
         "name": "model",
         "rawType": "int64",
         "type": "integer"
        },
        {
         "name": "antigen_chain",
         "rawType": "object",
         "type": "string"
        },
        {
         "name": "antigen_type",
         "rawType": "object",
         "type": "string"
        },
        {
         "name": "antigen_het_name",
         "rawType": "object",
         "type": "string"
        },
        {
         "name": "antigen_name",
         "rawType": "object",
         "type": "string"
        },
        {
         "name": "short_header",
         "rawType": "object",
         "type": "string"
        },
        {
         "name": "date",
         "rawType": "object",
         "type": "string"
        },
        {
         "name": "compound",
         "rawType": "object",
         "type": "string"
        },
        {
         "name": "organism",
         "rawType": "object",
         "type": "string"
        },
        {
         "name": "heavy_species",
         "rawType": "object",
         "type": "string"
        },
        {
         "name": "light_species",
         "rawType": "object",
         "type": "string"
        },
        {
         "name": "antigen_species",
         "rawType": "object",
         "type": "string"
        },
        {
         "name": "authors",
         "rawType": "object",
         "type": "string"
        },
        {
         "name": "resolution",
         "rawType": "float64",
         "type": "float"
        },
        {
         "name": "method",
         "rawType": "object",
         "type": "string"
        },
        {
         "name": "r_free",
         "rawType": "float64",
         "type": "float"
        },
        {
         "name": "r_factor",
         "rawType": "float64",
         "type": "float"
        },
        {
         "name": "scfv",
         "rawType": "bool",
         "type": "boolean"
        },
        {
         "name": "engineered",
         "rawType": "bool",
         "type": "boolean"
        },
        {
         "name": "heavy_subclass",
         "rawType": "object",
         "type": "string"
        },
        {
         "name": "light_subclass",
         "rawType": "object",
         "type": "string"
        },
        {
         "name": "light_ctype",
         "rawType": "object",
         "type": "string"
        },
        {
         "name": "affinity",
         "rawType": "float64",
         "type": "float"
        },
        {
         "name": "delta_g",
         "rawType": "float64",
         "type": "float"
        },
        {
         "name": "affinity_method",
         "rawType": "object",
         "type": "string"
        },
        {
         "name": "temperature",
         "rawType": "object",
         "type": "string"
        },
        {
         "name": "pmid",
         "rawType": "float64",
         "type": "float"
        }
       ],
       "conversionMethod": "pd.DataFrame",
       "ref": "b69f461c-6ef9-474e-83a0-14c608cca7da",
       "rows": [],
       "shape": {
        "columns": 30,
        "rows": 0
       }
      },
      "text/html": [
       "<div>\n",
       "<style scoped>\n",
       "    .dataframe tbody tr th:only-of-type {\n",
       "        vertical-align: middle;\n",
       "    }\n",
       "\n",
       "    .dataframe tbody tr th {\n",
       "        vertical-align: top;\n",
       "    }\n",
       "\n",
       "    .dataframe thead th {\n",
       "        text-align: right;\n",
       "    }\n",
       "</style>\n",
       "<table border=\"1\" class=\"dataframe\">\n",
       "  <thead>\n",
       "    <tr style=\"text-align: right;\">\n",
       "      <th></th>\n",
       "      <th>pdb</th>\n",
       "      <th>Hchain</th>\n",
       "      <th>Lchain</th>\n",
       "      <th>model</th>\n",
       "      <th>antigen_chain</th>\n",
       "      <th>antigen_type</th>\n",
       "      <th>antigen_het_name</th>\n",
       "      <th>antigen_name</th>\n",
       "      <th>short_header</th>\n",
       "      <th>date</th>\n",
       "      <th>...</th>\n",
       "      <th>scfv</th>\n",
       "      <th>engineered</th>\n",
       "      <th>heavy_subclass</th>\n",
       "      <th>light_subclass</th>\n",
       "      <th>light_ctype</th>\n",
       "      <th>affinity</th>\n",
       "      <th>delta_g</th>\n",
       "      <th>affinity_method</th>\n",
       "      <th>temperature</th>\n",
       "      <th>pmid</th>\n",
       "    </tr>\n",
       "  </thead>\n",
       "  <tbody>\n",
       "  </tbody>\n",
       "</table>\n",
       "<p>0 rows × 30 columns</p>\n",
       "</div>"
      ],
      "text/plain": [
       "Empty DataFrame\n",
       "Columns: [pdb, Hchain, Lchain, model, antigen_chain, antigen_type, antigen_het_name, antigen_name, short_header, date, compound, organism, heavy_species, light_species, antigen_species, authors, resolution, method, r_free, r_factor, scfv, engineered, heavy_subclass, light_subclass, light_ctype, affinity, delta_g, affinity_method, temperature, pmid]\n",
       "Index: []\n",
       "\n",
       "[0 rows x 30 columns]"
      ]
     },
     "execution_count": 18,
     "metadata": {},
     "output_type": "execute_result"
    }
   ],
   "source": [
    "data[data['compound'].str.contains('PDLM3', na=False)]"
   ]
  },
  {
   "cell_type": "code",
   "execution_count": 21,
   "metadata": {},
   "outputs": [
    {
     "name": "stdout",
     "output_type": "stream",
     "text": [
      "    pdb Hchain Lchain antigen_chain antigen_type  \\\n",
      "0  7cu5      A      A             Q      protein   \n",
      "2  5b8c      E      D             F      protein   \n",
      "3  5xj3      G      H             I      protein   \n",
      "4  5tru      H      L             C      protein   \n",
      "5  7elx      h      l             c      protein   \n",
      "\n",
      "                       antigen_name  \\\n",
      "0   programmed cell death protein 1   \n",
      "2   programmed cell death protein 1   \n",
      "3  cytotoxic t-lymphocyte protein 4   \n",
      "4  cytotoxic t-lymphocyte protein 4   \n",
      "5                           unknown   \n",
      "\n",
      "                                            compound  resolution  \\\n",
      "0  N-Glycosylation of PD-1 and glycosylation depe...       2.810   \n",
      "2  High resolution structure of the human PD-1 in...       2.146   \n",
      "3    Complex structure of ipilimumab-scFv and CTLA-4       3.200   \n",
      "4  Structure of the first-in-class checkpoint inh...       3.000   \n",
      "5            The crystal structure of CTLA-4 and Fab       2.140   \n",
      "\n",
      "              method  \n",
      "0  X-RAY DIFFRACTION  \n",
      "2  X-RAY DIFFRACTION  \n",
      "3  X-RAY DIFFRACTION  \n",
      "4  X-RAY DIFFRACTION  \n",
      "5  X-RAY DIFFRACTION  \n"
     ]
    }
   ],
   "source": [
    "# Resolution filter \n",
    "shuffled_df = shuffled_df[shuffled_df['resolution'] < 3.5]\n",
    "print(shuffled_df.head())"
   ]
  },
  {
   "cell_type": "code",
   "execution_count": null,
   "metadata": {},
   "outputs": [],
   "source": []
  }
 ],
 "metadata": {
  "kernelspec": {
   "display_name": "Python 3",
   "language": "python",
   "name": "python3"
  },
  "language_info": {
   "codemirror_mode": {
    "name": "ipython",
    "version": 3
   },
   "file_extension": ".py",
   "mimetype": "text/x-python",
   "name": "python",
   "nbconvert_exporter": "python",
   "pygments_lexer": "ipython3",
   "version": "3.11.4"
  }
 },
 "nbformat": 4,
 "nbformat_minor": 2
}
