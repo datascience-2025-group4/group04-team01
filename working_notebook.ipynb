{
 "cells": [
  {
   "cell_type": "code",
   "execution_count": 117,
   "metadata": {},
   "outputs": [],
   "source": [
    "# Import statements\n",
    "import numpy as numpy\n",
    "import pandas as pd\n",
    "import seaborn as sns #for plotting\n",
    "import matplotlib.pyplot as plt\n",
    "import random"
   ]
  },
  {
   "cell_type": "code",
   "execution_count": 118,
   "metadata": {},
   "outputs": [],
   "source": [
    "# Define datasets for individual inhibitory checkpoints\n",
    "data = pd.read_csv('data/ab_ag.tsv', sep='\\t')\n",
    "pd1 = data[data['compound'].str.contains('PD-1', na=False)]\n",
    "pdl1 = data[data['compound'].str.contains('PD-L1', na=False)]\n",
    "ctla4 = data[data['compound'].str.contains('CTLA-4', na=False)]\n",
    "kir = data[data['compound'].str.contains('KIR', na=False)]\n",
    "lag3 = data[data['compound'].str.contains('LAG', na=False)]\n",
    "tim3 = data[data['compound'].str.contains('TIM3', na=False)]"
   ]
  },
  {
   "cell_type": "code",
   "execution_count": 119,
   "metadata": {},
   "outputs": [],
   "source": [
    "# Filter out necessary columns\n",
    "pd1 = pd1[['pdb', 'Hchain', 'Lchain', 'antigen_chain', 'antigen_type', 'antigen_name', 'compound', 'resolution', 'method']]\n",
    "pdl1 = pdl1[['pdb', 'Hchain', 'Lchain', 'antigen_chain', 'antigen_type', 'antigen_name', 'compound', 'resolution', 'method']]\n",
    "ctla4 = ctla4[['pdb', 'Hchain', 'Lchain', 'antigen_chain', 'antigen_type', 'antigen_name', 'compound', 'resolution', 'method']]\n",
    "kir = kir[['pdb', 'Hchain', 'Lchain', 'antigen_chain', 'antigen_type', 'antigen_name', 'compound', 'resolution', 'method']]\n",
    "lag3 = lag3[['pdb', 'Hchain', 'Lchain', 'antigen_chain', 'antigen_type', 'antigen_name', 'compound', 'resolution', 'method']]\n",
    "tim3 = tim3[['pdb', 'Hchain', 'Lchain', 'antigen_chain', 'antigen_type', 'antigen_name', 'compound', 'resolution', 'method']]"
   ]
  },
  {
   "cell_type": "code",
   "execution_count": 173,
   "metadata": {},
   "outputs": [],
   "source": [
    "combined_dataset = [pdl1, pd1, ctla4, kir, lag3, tim3]\n",
    "\n",
    "# Shuffle the list randomly\n",
    "random.shuffle(combined_dataset)\n",
    "\n",
    "# Concatenate them in the new random order\n",
    "merged_df = pd.concat(combined_dataset, ignore_index=True)\n",
    "shuffled_df = merged_df.sample(frac=1).reset_index(drop=True)"
   ]
  },
  {
   "cell_type": "code",
   "execution_count": 183,
   "metadata": {},
   "outputs": [],
   "source": [
    "shuffled_df = shuffled_df[shuffled_df['resolution'] < 3.5]\n",
    "shuffled_df = shuffled_df.dropna()"
   ]
  },
  {
   "cell_type": "code",
   "execution_count": 50,
   "metadata": {},
   "outputs": [],
   "source": [
    "resolutions = shuffled_df['resolution']"
   ]
  },
  {
   "cell_type": "code",
   "execution_count": null,
   "metadata": {},
   "outputs": [
    {
     "name": "stderr",
     "output_type": "stream",
     "text": [
      "<ipython-input-52-e3290d2f22b3>:7: FutureWarning: \n",
      "\n",
      "Passing `palette` without assigning `hue` is deprecated and will be removed in v0.14.0. Assign the `x` variable to `hue` and set `legend=False` for the same effect.\n",
      "\n",
      "  sns.boxplot(data=resolutions, palette='pastel')\n"
     ]
    },
    {
     "data": {
      "image/png": "[encoded data removed]",
      "text/plain": [
       "<Figure size 576x432 with 1 Axes>"
      ]
     },
     "metadata": {},
     "output_type": "display_data"
    }
   ],
   "source": [
    "sns.set(style=\"whitegrid\")\n",
    "\n",
    "# Set figure size\n",
    "plt.figure(figsize=(8, 6))\n",
    "\n",
    "# Create the boxplot\n",
    "sns.boxplot(data=resolutions, palette='pastel')\n",
    "plt.ylim(top=4.0)\n",
    "\n",
    "# Add title and labels\n",
    "plt.title('Resolution Distribution', fontsize=16)\n",
    "plt.ylabel('Resolution (Å)', fontsize=12)\n",
    "plt.xticks(fontsize=10)\n",
    "plt.yticks(fontsize=10)\n",
    "\n",
    "# Optional: remove top and right spines for a cleaner look\n",
    "sns.despine()\n",
    "\n",
    "plt.tight_layout()\n",
    "plt.savefig('plots/resolution_distribution_before_cleanup.pdf', bbox_inches='tight')\n",
    "# plt.show()"
   ]
  },
  {
   "cell_type": "code",
   "execution_count": null,
   "metadata": {},
   "outputs": [],
   "source": [
    "data[data['compound'].str.contains('TIM3', na=False)]"
   ]
  },
  {
   "cell_type": "code",
   "execution_count": 163,
   "metadata": {},
   "outputs": [],
   "source": [
    "l = ['CTLA-4', 'TIM3', 'PD-1', 'PD-L1', 'KIR', 'LAG3']\n",
    "\n",
    "new_df = pd.DataFrame(index = l)\n",
    "\n",
    "for item in l:\n",
    "    count = shuffled_df[shuffled_df['compound'].str.contains(item, na=False)].shape[0]\n",
    "    new_df.loc[item, 'count'] = count\n",
    "\n",
    "new_df = new_df.reset_index()\n",
    "new_df.columns = ['checkpoint', 'count'] "
   ]
  },
  {
   "cell_type": "code",
   "execution_count": 164,
   "metadata": {},
   "outputs": [
    {
     "name": "stderr",
     "output_type": "stream",
     "text": [
      "<ipython-input-164-8b906ac0e3c8>:5: FutureWarning: \n",
      "\n",
      "Passing `palette` without assigning `hue` is deprecated and will be removed in v0.14.0. Assign the `x` variable to `hue` and set `legend=False` for the same effect.\n",
      "\n",
      "  sns.barplot(data=new_df, x='checkpoint', y='count', palette='Set2')\n"
     ]
    },
    {
     "data": {
      "image/png": "[encoded data removed]",
      "text/plain": [
       "<Figure size 576x432 with 1 Axes>"
      ]
     },
     "metadata": {},
     "output_type": "display_data"
    }
   ],
   "source": [
    " # rename for clarity\n",
    "\n",
    "# Plot\n",
    "plt.figure(figsize=(8, 6))\n",
    "sns.barplot(data=new_df, x='checkpoint', y='count', palette='Set2')\n",
    "\n",
    "# Styling\n",
    "plt.title('Immune Checkpoint Counts', fontsize=14)\n",
    "plt.xlabel('Checkpoint', fontsize=12)\n",
    "plt.ylabel('Count', fontsize=12)\n",
    "plt.xticks(rotation=45)\n",
    "plt.ylim(top=40)\n",
    "plt.tight_layout()\n",
    "plt.savefig('plots/immune_checkpoint_counts_before_cleanup.pdf', bbox_inches='tight')\n",
    "plt.show()"
   ]
  },
  {
   "cell_type": "code",
   "execution_count": 167,
   "metadata": {},
   "outputs": [
    {
     "data": {
      "text/html": [
       "<div>\n",
       "<style scoped>\n",
       "    .dataframe tbody tr th:only-of-type {\n",
       "        vertical-align: middle;\n",
       "    }\n",
       "\n",
       "    .dataframe tbody tr th {\n",
       "        vertical-align: top;\n",
       "    }\n",
       "\n",
       "    .dataframe thead th {\n",
       "        text-align: right;\n",
       "    }\n",
       "</style>\n",
       "<table border=\"1\" class=\"dataframe\">\n",
       "  <thead>\n",
       "    <tr style=\"text-align: right;\">\n",
       "      <th></th>\n",
       "      <th>pdb</th>\n",
       "      <th>Hchain</th>\n",
       "      <th>Lchain</th>\n",
       "      <th>antigen_chain</th>\n",
       "      <th>antigen_type</th>\n",
       "      <th>antigen_name</th>\n",
       "      <th>compound</th>\n",
       "      <th>resolution</th>\n",
       "      <th>method</th>\n",
       "    </tr>\n",
       "  </thead>\n",
       "  <tbody>\n",
       "    <tr>\n",
       "      <th>0</th>\n",
       "      <td>5jxe</td>\n",
       "      <td>D</td>\n",
       "      <td>C</td>\n",
       "      <td>B</td>\n",
       "      <td>protein</td>\n",
       "      <td>programmed cell death protein 1</td>\n",
       "      <td>Human PD-1 ectodomain complexed with Pembroliz...</td>\n",
       "      <td>2.900</td>\n",
       "      <td>X-RAY DIFFRACTION</td>\n",
       "    </tr>\n",
       "    <tr>\n",
       "      <th>1</th>\n",
       "      <td>7cgw</td>\n",
       "      <td>A</td>\n",
       "      <td>B</td>\n",
       "      <td>C</td>\n",
       "      <td>protein</td>\n",
       "      <td>programmed cell death protein 1</td>\n",
       "      <td>Complex structure of PD-1 and tislelizumab Fab</td>\n",
       "      <td>3.200</td>\n",
       "      <td>X-RAY DIFFRACTION</td>\n",
       "    </tr>\n",
       "    <tr>\n",
       "      <th>3</th>\n",
       "      <td>5x8l</td>\n",
       "      <td>G</td>\n",
       "      <td>L</td>\n",
       "      <td>B</td>\n",
       "      <td>protein</td>\n",
       "      <td>programmed cell death 1 ligand 1</td>\n",
       "      <td>PD-L1 in complex with atezolizumab</td>\n",
       "      <td>3.100</td>\n",
       "      <td>X-RAY DIFFRACTION</td>\n",
       "    </tr>\n",
       "    <tr>\n",
       "      <th>4</th>\n",
       "      <td>6xy2</td>\n",
       "      <td>H</td>\n",
       "      <td>L</td>\n",
       "      <td>A</td>\n",
       "      <td>protein</td>\n",
       "      <td>cytotoxic t-lymphocyte protein 4</td>\n",
       "      <td>Crystal structure of CTLA-4 complexed with the...</td>\n",
       "      <td>3.050</td>\n",
       "      <td>X-RAY DIFFRACTION</td>\n",
       "    </tr>\n",
       "    <tr>\n",
       "      <th>5</th>\n",
       "      <td>8gy5</td>\n",
       "      <td>H</td>\n",
       "      <td>L</td>\n",
       "      <td>P</td>\n",
       "      <td>protein</td>\n",
       "      <td>programmed cell death protein 1</td>\n",
       "      <td>High-resolution structure of the cemiplimab Fa...</td>\n",
       "      <td>1.980</td>\n",
       "      <td>X-RAY DIFFRACTION</td>\n",
       "    </tr>\n",
       "    <tr>\n",
       "      <th>...</th>\n",
       "      <td>...</td>\n",
       "      <td>...</td>\n",
       "      <td>...</td>\n",
       "      <td>...</td>\n",
       "      <td>...</td>\n",
       "      <td>...</td>\n",
       "      <td>...</td>\n",
       "      <td>...</td>\n",
       "      <td>...</td>\n",
       "    </tr>\n",
       "    <tr>\n",
       "      <th>76</th>\n",
       "      <td>5wt9</td>\n",
       "      <td>H</td>\n",
       "      <td>L</td>\n",
       "      <td>G</td>\n",
       "      <td>protein</td>\n",
       "      <td>programmed cell death protein 1</td>\n",
       "      <td>Complex structure of PD-1 and nivolumab-Fab</td>\n",
       "      <td>2.401</td>\n",
       "      <td>X-RAY DIFFRACTION</td>\n",
       "    </tr>\n",
       "    <tr>\n",
       "      <th>77</th>\n",
       "      <td>7cgw</td>\n",
       "      <td>H</td>\n",
       "      <td>L</td>\n",
       "      <td>P</td>\n",
       "      <td>protein</td>\n",
       "      <td>programmed cell death protein 1</td>\n",
       "      <td>Complex structure of PD-1 and tislelizumab Fab</td>\n",
       "      <td>3.200</td>\n",
       "      <td>X-RAY DIFFRACTION</td>\n",
       "    </tr>\n",
       "    <tr>\n",
       "      <th>79</th>\n",
       "      <td>7su0</td>\n",
       "      <td>H</td>\n",
       "      <td>L</td>\n",
       "      <td>C</td>\n",
       "      <td>protein</td>\n",
       "      <td>cytotoxic t-lymphocyte protein 4</td>\n",
       "      <td>Crystal structure of an acidic pH-selective Ip...</td>\n",
       "      <td>2.410</td>\n",
       "      <td>X-RAY DIFFRACTION</td>\n",
       "    </tr>\n",
       "    <tr>\n",
       "      <th>81</th>\n",
       "      <td>8u31</td>\n",
       "      <td>C</td>\n",
       "      <td>B</td>\n",
       "      <td>A</td>\n",
       "      <td>protein</td>\n",
       "      <td>programmed cell death protein 1</td>\n",
       "      <td>Crystal structure of PD-1 in complex with a Fab</td>\n",
       "      <td>2.730</td>\n",
       "      <td>X-RAY DIFFRACTION</td>\n",
       "    </tr>\n",
       "    <tr>\n",
       "      <th>82</th>\n",
       "      <td>5xj3</td>\n",
       "      <td>D</td>\n",
       "      <td>E</td>\n",
       "      <td>F</td>\n",
       "      <td>protein</td>\n",
       "      <td>cytotoxic t-lymphocyte protein 4</td>\n",
       "      <td>Complex structure of ipilimumab-scFv and CTLA-4</td>\n",
       "      <td>3.200</td>\n",
       "      <td>X-RAY DIFFRACTION</td>\n",
       "    </tr>\n",
       "  </tbody>\n",
       "</table>\n",
       "<p>68 rows × 9 columns</p>\n",
       "</div>"
      ],
      "text/plain": [
       "     pdb Hchain Lchain antigen_chain antigen_type  \\\n",
       "0   5jxe      D      C             B      protein   \n",
       "1   7cgw      A      B             C      protein   \n",
       "3   5x8l      G      L             B      protein   \n",
       "4   6xy2      H      L             A      protein   \n",
       "5   8gy5      H      L             P      protein   \n",
       "..   ...    ...    ...           ...          ...   \n",
       "76  5wt9      H      L             G      protein   \n",
       "77  7cgw      H      L             P      protein   \n",
       "79  7su0      H      L             C      protein   \n",
       "81  8u31      C      B             A      protein   \n",
       "82  5xj3      D      E             F      protein   \n",
       "\n",
       "                        antigen_name  \\\n",
       "0    programmed cell death protein 1   \n",
       "1    programmed cell death protein 1   \n",
       "3   programmed cell death 1 ligand 1   \n",
       "4   cytotoxic t-lymphocyte protein 4   \n",
       "5    programmed cell death protein 1   \n",
       "..                               ...   \n",
       "76   programmed cell death protein 1   \n",
       "77   programmed cell death protein 1   \n",
       "79  cytotoxic t-lymphocyte protein 4   \n",
       "81   programmed cell death protein 1   \n",
       "82  cytotoxic t-lymphocyte protein 4   \n",
       "\n",
       "                                             compound  resolution  \\\n",
       "0   Human PD-1 ectodomain complexed with Pembroliz...       2.900   \n",
       "1      Complex structure of PD-1 and tislelizumab Fab       3.200   \n",
       "3                  PD-L1 in complex with atezolizumab       3.100   \n",
       "4   Crystal structure of CTLA-4 complexed with the...       3.050   \n",
       "5   High-resolution structure of the cemiplimab Fa...       1.980   \n",
       "..                                                ...         ...   \n",
       "76        Complex structure of PD-1 and nivolumab-Fab       2.401   \n",
       "77     Complex structure of PD-1 and tislelizumab Fab       3.200   \n",
       "79  Crystal structure of an acidic pH-selective Ip...       2.410   \n",
       "81    Crystal structure of PD-1 in complex with a Fab       2.730   \n",
       "82    Complex structure of ipilimumab-scFv and CTLA-4       3.200   \n",
       "\n",
       "               method  \n",
       "0   X-RAY DIFFRACTION  \n",
       "1   X-RAY DIFFRACTION  \n",
       "3   X-RAY DIFFRACTION  \n",
       "4   X-RAY DIFFRACTION  \n",
       "5   X-RAY DIFFRACTION  \n",
       "..                ...  \n",
       "76  X-RAY DIFFRACTION  \n",
       "77  X-RAY DIFFRACTION  \n",
       "79  X-RAY DIFFRACTION  \n",
       "81  X-RAY DIFFRACTION  \n",
       "82  X-RAY DIFFRACTION  \n",
       "\n",
       "[68 rows x 9 columns]"
      ]
     },
     "execution_count": 167,
     "metadata": {},
     "output_type": "execute_result"
    }
   ],
   "source": [
    "shuffled_df"
   ]
  },
  {
   "cell_type": "code",
   "execution_count": 187,
   "metadata": {},
   "outputs": [
    {
     "data": {
      "image/png": "[encoded data removed]",
      "text/plain": [
       "<Figure size 432x288 with 1 Axes>"
      ]
     },
     "metadata": {},
     "output_type": "display_data"
    }
   ],
   "source": [
    "sns.histplot(shuffled_df['resolution'], bins=15, kde=True, color='teal')\n",
    "plt.title('Resolution Distribution')\n",
    "plt.xlabel('Resolution (Å)')\n",
    "plt.ylabel('Frequency')\n",
    "plt.ylim(top = 16)\n",
    "plt.xlim(left = 1.5, right = 3.4)\n",
    "\n",
    "plt.savefig('plots/resolution_distribution_histogram_after_cleanup.pdf', bbox_inches = 'tight')"
   ]
  },
  {
   "cell_type": "code",
   "execution_count": 186,
   "metadata": {},
   "outputs": [
    {
     "data": {
      "text/plain": [
       "3.4"
      ]
     },
     "execution_count": 186,
     "metadata": {},
     "output_type": "execute_result"
    }
   ],
   "source": [
    "max(shuffled_df['resolution'])"
   ]
  },
  {
   "cell_type": "code",
   "execution_count": null,
   "metadata": {},
   "outputs": [],
   "source": []
  }
 ],
 "metadata": {
  "kernelspec": {
   "display_name": "base",
   "language": "python",
   "name": "python3"
  },
  "language_info": {
   "codemirror_mode": {
    "name": "ipython",
    "version": 3
   },
   "file_extension": ".py",
   "mimetype": "text/x-python",
   "name": "python",
   "nbconvert_exporter": "python",
   "pygments_lexer": "ipython3",
   "version": "3.9.13"
  }
 },
 "nbformat": 4,
 "nbformat_minor": 2
}
