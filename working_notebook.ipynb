{
 "cells": [
  {
   "cell_type": "code",
   "execution_count": 5,
   "metadata": {},
   "outputs": [],
   "source": [
    "# Import statements\n",
    "import numpy as numpy\n",
    "import pandas as pd\n",
    "import random"
   ]
  },
  {
   "cell_type": "code",
   "execution_count": 6,
   "metadata": {},
   "outputs": [],
   "source": [
    "# Define datasets for individual inhibitory checkpoints\n",
    "data = pd.read_csv('data/ab_ag.tsv', sep='\\t')\n",
    "pd1 = data[data['compound'].str.contains('PD-1', na=False)]\n",
    "pdl1 = data[data['compound'].str.contains('PDL-1', na=False)]\n",
    "ctla4 = data[data['compound'].str.contains('CTLA-4', na=False)]\n",
    "kir = data[data['compound'].str.contains('KIR', na=False)]\n",
    "lag3 = data[data['compound'].str.contains('LAG', na=False)]\n",
    "tim3 = data[data['compound'].str.contains('TIM3', na=False)]"
   ]
  },
  {
   "cell_type": "code",
   "execution_count": 7,
   "metadata": {},
   "outputs": [],
   "source": [
    "# Filter out necessary columns\n",
    "pd1 = pd1[['pdb', 'Hchain', 'Lchain', 'antigen_chain', 'antigen_type', 'antigen_name', 'compound', 'resolution', 'method']]\n",
    "pdl1 = pdl1[['pdb', 'Hchain', 'Lchain', 'antigen_chain', 'antigen_type', 'antigen_name', 'compound', 'resolution', 'method']]\n",
    "ctla4 = ctla4[['pdb', 'Hchain', 'Lchain', 'antigen_chain', 'antigen_type', 'antigen_name', 'compound', 'resolution', 'method']]\n",
    "kir = kir[['pdb', 'Hchain', 'Lchain', 'antigen_chain', 'antigen_type', 'antigen_name', 'compound', 'resolution', 'method']]\n",
    "lag3 = lag3[['pdb', 'Hchain', 'Lchain', 'antigen_chain', 'antigen_type', 'antigen_name', 'compound', 'resolution', 'method']]\n",
    "tim3 = tim3[['pdb', 'Hchain', 'Lchain', 'antigen_chain', 'antigen_type', 'antigen_name', 'compound', 'resolution', 'method']]"
   ]
  },
  {
   "cell_type": "code",
   "execution_count": 19,
   "metadata": {},
   "outputs": [],
   "source": [
    "combined_dataset = [pdl1, pd1, ctla4, kir, lag3, tim3]\n",
    "\n",
    "# Shuffle the list randomly\n",
    "random.shuffle(combined_dataset)\n",
    "\n",
    "# Concatenate them in the new random order\n",
    "merged_df = pd.concat(combined_dataset, ignore_index=True)\n",
    "shuffled_df = merged_df.sample(frac=1).reset_index(drop=True)"
   ]
  },
  {
   "cell_type": "code",
   "execution_count": null,
   "metadata": {},
   "outputs": [
    {
     "name": "stdout",
     "output_type": "stream",
     "text": [
      "    pdb Hchain Lchain antigen_chain antigen_type  \\\n",
      "0  7cu5      A      A             Q      protein   \n",
      "2  5b8c      E      D             F      protein   \n",
      "3  5xj3      G      H             I      protein   \n",
      "4  5tru      H      L             C      protein   \n",
      "5  7elx      h      l             c      protein   \n",
      "\n",
      "                       antigen_name  \\\n",
      "0   programmed cell death protein 1   \n",
      "2   programmed cell death protein 1   \n",
      "3  cytotoxic t-lymphocyte protein 4   \n",
      "4  cytotoxic t-lymphocyte protein 4   \n",
      "5                           unknown   \n",
      "\n",
      "                                            compound  resolution  \\\n",
      "0  N-Glycosylation of PD-1 and glycosylation depe...       2.810   \n",
      "2  High resolution structure of the human PD-1 in...       2.146   \n",
      "3    Complex structure of ipilimumab-scFv and CTLA-4       3.200   \n",
      "4  Structure of the first-in-class checkpoint inh...       3.000   \n",
      "5            The crystal structure of CTLA-4 and Fab       2.140   \n",
      "\n",
      "              method  \n",
      "0  X-RAY DIFFRACTION  \n",
      "2  X-RAY DIFFRACTION  \n",
      "3  X-RAY DIFFRACTION  \n",
      "4  X-RAY DIFFRACTION  \n",
      "5  X-RAY DIFFRACTION  \n"
     ]
    }
   ],
   "source": [
    "# Resolution filter \n",
    "shuffled_df = shuffled_df[shuffled_df['resolution'] < 3.5] #take only values smaller tham 3.5"
   ]
  },
  {
   "cell_type": "code",
   "execution_count": null,
   "metadata": {},
   "outputs": [],
   "source": []
  }
 ],
 "metadata": {
  "kernelspec": {
   "display_name": "Python 3",
   "language": "python",
   "name": "python3"
  },
  "language_info": {
   "codemirror_mode": {
    "name": "ipython",
    "version": 3
   },
   "file_extension": ".py",
   "mimetype": "text/x-python",
   "name": "python",
   "nbconvert_exporter": "python",
   "pygments_lexer": "ipython3",
   "version": "3.11.4"
  }
 },
 "nbformat": 4,
 "nbformat_minor": 2
}
