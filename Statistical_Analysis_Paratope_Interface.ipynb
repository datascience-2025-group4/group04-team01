{
 "cells": [
  {
   "cell_type": "markdown",
   "id": "0caefe2f",
   "metadata": {},
   "source": [
    "# Import"
   ]
  },
  {
   "cell_type": "code",
   "execution_count": 3,
   "id": "5d8fe8db",
   "metadata": {},
   "outputs": [],
   "source": [
    "import pandas as pd "
   ]
  },
  {
   "cell_type": "markdown",
   "id": "79730b2e",
   "metadata": {},
   "source": [
    "# Do cluster have different binding affinities? "
   ]
  },
  {
   "cell_type": "code",
   "execution_count": 4,
   "id": "7a1e330b",
   "metadata": {},
   "outputs": [
    {
     "ename": "KeyError",
     "evalue": "\"['checkpoint'] not in index\"",
     "output_type": "error",
     "traceback": [
      "\u001b[31m---------------------------------------------------------------------------\u001b[39m",
      "\u001b[31mKeyError\u001b[39m                                  Traceback (most recent call last)",
      "\u001b[36mCell\u001b[39m\u001b[36m \u001b[39m\u001b[32mIn[4]\u001b[39m\u001b[32m, line 31\u001b[39m\n\u001b[32m     28\u001b[39m cluster_df = pd.DataFrame(cluster_rows)\n\u001b[32m     30\u001b[39m \u001b[38;5;66;03m# 3. Merge with main df \u001b[39;00m\n\u001b[32m---> \u001b[39m\u001b[32m31\u001b[39m merged_df = cluster_df.merge(\u001b[43mall_df\u001b[49m\u001b[43m[\u001b[49m\u001b[43m[\u001b[49m\u001b[33;43m\"\u001b[39;49m\u001b[33;43mpdb_id\u001b[39;49m\u001b[33;43m\"\u001b[39;49m\u001b[43m,\u001b[49m\u001b[43m \u001b[49m\u001b[33;43m\"\u001b[39;49m\u001b[33;43mbinding_score\u001b[39;49m\u001b[33;43m\"\u001b[39;49m\u001b[43m,\u001b[49m\u001b[43m \u001b[49m\u001b[33;43m\"\u001b[39;49m\u001b[33;43mcheckpoint\u001b[39;49m\u001b[33;43m\"\u001b[39;49m\u001b[43m]\u001b[49m\u001b[43m]\u001b[49m, on=\u001b[33m\"\u001b[39m\u001b[33mpdb_id\u001b[39m\u001b[33m\"\u001b[39m, how=\u001b[33m\"\u001b[39m\u001b[33mleft\u001b[39m\u001b[33m\"\u001b[39m)\n\u001b[32m     33\u001b[39m \u001b[38;5;28mprint\u001b[39m(merged_df)\n",
      "\u001b[36mFile \u001b[39m\u001b[32m/opt/anaconda3/envs/bioinfo_env/lib/python3.13/site-packages/pandas/core/frame.py:4108\u001b[39m, in \u001b[36mDataFrame.__getitem__\u001b[39m\u001b[34m(self, key)\u001b[39m\n\u001b[32m   4106\u001b[39m     \u001b[38;5;28;01mif\u001b[39;00m is_iterator(key):\n\u001b[32m   4107\u001b[39m         key = \u001b[38;5;28mlist\u001b[39m(key)\n\u001b[32m-> \u001b[39m\u001b[32m4108\u001b[39m     indexer = \u001b[38;5;28;43mself\u001b[39;49m\u001b[43m.\u001b[49m\u001b[43mcolumns\u001b[49m\u001b[43m.\u001b[49m\u001b[43m_get_indexer_strict\u001b[49m\u001b[43m(\u001b[49m\u001b[43mkey\u001b[49m\u001b[43m,\u001b[49m\u001b[43m \u001b[49m\u001b[33;43m\"\u001b[39;49m\u001b[33;43mcolumns\u001b[39;49m\u001b[33;43m\"\u001b[39;49m\u001b[43m)\u001b[49m[\u001b[32m1\u001b[39m]\n\u001b[32m   4110\u001b[39m \u001b[38;5;66;03m# take() does not accept boolean indexers\u001b[39;00m\n\u001b[32m   4111\u001b[39m \u001b[38;5;28;01mif\u001b[39;00m \u001b[38;5;28mgetattr\u001b[39m(indexer, \u001b[33m\"\u001b[39m\u001b[33mdtype\u001b[39m\u001b[33m\"\u001b[39m, \u001b[38;5;28;01mNone\u001b[39;00m) == \u001b[38;5;28mbool\u001b[39m:\n",
      "\u001b[36mFile \u001b[39m\u001b[32m/opt/anaconda3/envs/bioinfo_env/lib/python3.13/site-packages/pandas/core/indexes/base.py:6200\u001b[39m, in \u001b[36mIndex._get_indexer_strict\u001b[39m\u001b[34m(self, key, axis_name)\u001b[39m\n\u001b[32m   6197\u001b[39m \u001b[38;5;28;01melse\u001b[39;00m:\n\u001b[32m   6198\u001b[39m     keyarr, indexer, new_indexer = \u001b[38;5;28mself\u001b[39m._reindex_non_unique(keyarr)\n\u001b[32m-> \u001b[39m\u001b[32m6200\u001b[39m \u001b[38;5;28;43mself\u001b[39;49m\u001b[43m.\u001b[49m\u001b[43m_raise_if_missing\u001b[49m\u001b[43m(\u001b[49m\u001b[43mkeyarr\u001b[49m\u001b[43m,\u001b[49m\u001b[43m \u001b[49m\u001b[43mindexer\u001b[49m\u001b[43m,\u001b[49m\u001b[43m \u001b[49m\u001b[43maxis_name\u001b[49m\u001b[43m)\u001b[49m\n\u001b[32m   6202\u001b[39m keyarr = \u001b[38;5;28mself\u001b[39m.take(indexer)\n\u001b[32m   6203\u001b[39m \u001b[38;5;28;01mif\u001b[39;00m \u001b[38;5;28misinstance\u001b[39m(key, Index):\n\u001b[32m   6204\u001b[39m     \u001b[38;5;66;03m# GH 42790 - Preserve name from an Index\u001b[39;00m\n",
      "\u001b[36mFile \u001b[39m\u001b[32m/opt/anaconda3/envs/bioinfo_env/lib/python3.13/site-packages/pandas/core/indexes/base.py:6252\u001b[39m, in \u001b[36mIndex._raise_if_missing\u001b[39m\u001b[34m(self, key, indexer, axis_name)\u001b[39m\n\u001b[32m   6249\u001b[39m     \u001b[38;5;28;01mraise\u001b[39;00m \u001b[38;5;167;01mKeyError\u001b[39;00m(\u001b[33mf\u001b[39m\u001b[33m\"\u001b[39m\u001b[33mNone of [\u001b[39m\u001b[38;5;132;01m{\u001b[39;00mkey\u001b[38;5;132;01m}\u001b[39;00m\u001b[33m] are in the [\u001b[39m\u001b[38;5;132;01m{\u001b[39;00maxis_name\u001b[38;5;132;01m}\u001b[39;00m\u001b[33m]\u001b[39m\u001b[33m\"\u001b[39m)\n\u001b[32m   6251\u001b[39m not_found = \u001b[38;5;28mlist\u001b[39m(ensure_index(key)[missing_mask.nonzero()[\u001b[32m0\u001b[39m]].unique())\n\u001b[32m-> \u001b[39m\u001b[32m6252\u001b[39m \u001b[38;5;28;01mraise\u001b[39;00m \u001b[38;5;167;01mKeyError\u001b[39;00m(\u001b[33mf\u001b[39m\u001b[33m\"\u001b[39m\u001b[38;5;132;01m{\u001b[39;00mnot_found\u001b[38;5;132;01m}\u001b[39;00m\u001b[33m not in index\u001b[39m\u001b[33m\"\u001b[39m)\n",
      "\u001b[31mKeyError\u001b[39m: \"['checkpoint'] not in index\""
     ]
    }
   ],
   "source": [
    "all_df = pd.read_csv(f\"data/structural_analysis/{section.capitalize()}/structural_{section}_all_information_final.csv\")\n",
    "\n",
    "if section.lower() == \"paratope\":\n",
    "    manual_clusters = {\n",
    "    \"Cluster 1\": [\"5x8m\", \"5xj4\", \"9dq3\", \"9dq4\", \"7su1\", \"7su0\", \"5xj3\", \"6rp8\", \"5tru\" ],\n",
    "    \"Cluster 2\": [\"6txz\"],\n",
    "    \"Cluster 3\": [\"5xB1\", \"5xxy\"],\n",
    "    \"Cluster 4\": [\"5ggs\", \"5jxe\", \"5b8c\"],\n",
    "    \"Cluster 5\": [\"7wvm\", \"8gy5\"],\n",
    "    \"Cluster 6\": [\"7cgw\", \"7bxa\"],\n",
    "    \"Cluster 7\": [\"5wt9\", \"5ggr\"]\n",
    "    }\n",
    "else: \n",
    "    manual_clusters = {\n",
    "    \"Cluster 1\": [\"7su1\", \"5ggv\", \"9dq3\", \"6rp8\", \"5tru\", \"7su0\", \"6rp8\", \"5xq3\"],\n",
    "    \"Cluster 2\": [\"5b8c\", \"5ggs\", \"5jxe\", \"7bxa\", \"6xkr\", \"7cgw\", \"5ggr\", \"5wt9\", \"7cu5\", \"8gy5\", \"7wsl\", \"6k0y\", \"7wym\"],\n",
    "    \"Cluster 3\": [\"6txz\"],\n",
    "    \"Cluster 4\": [\"5xxy\", \"5x8i\", \"5grj\", \"5xj4\", \"5x8m\"],\n",
    "}\n",
    "\n",
    "# Convert manual Cluster-Dict in list \n",
    "cluster_rows = []\n",
    "for cluster_name, pdb_list in manual_clusters.items():\n",
    "    for pdb in pdb_list:\n",
    "        cluster_rows.append({\"pdb_id\": pdb, \"cluster\": cluster_name})\n",
    "\n",
    "# DF\n",
    "cluster_df = pd.DataFrame(cluster_rows)\n",
    "\n",
    "# 3. Merge with main df \n",
    "merged_df = cluster_df.merge(all_df[[\"pdb_id\", \"binding_score\", \"checkpoint\"]], on=\"pdb_id\", how=\"left\")\n",
    "\n",
    "print(merged_df)"
   ]
  },
  {
   "cell_type": "code",
   "execution_count": null,
   "id": "338d5cab",
   "metadata": {},
   "outputs": [],
   "source": [
    "plt.figure(figsize=(7, 5))\n",
    "sns.boxplot(data=merged_df, x=\"cluster\", y=\"binding_score\", palette=\"Set2\")\n",
    "\n",
    "plt.title(f\"Binding Score by Manual Cluster- {section.capitalize()}\")\n",
    "plt.xlabel(\"Cluster\")\n",
    "plt.ylabel(\"Binding Score\")\n",
    "plt.tight_layout()\n",
    "plt.ylim(0, 0.6)\n",
    "\n",
    "plt.savefig(f\"plots/structural_analysis/statistical_analysis/{section.capitalize()}/{section}_binding_score_by_cluster.pdf\", bbox_inches='tight')\n"
   ]
  },
  {
   "cell_type": "code",
   "execution_count": null,
   "id": "bad8d676",
   "metadata": {},
   "outputs": [],
   "source": [
    "# group by cluster \n",
    "grouped_scores = [\n",
    "    group[\"binding_score\"].dropna().values\n",
    "    for name, group in merged_df.groupby(\"cluster\")\n",
    "]\n",
    "\n",
    "# Kruskal–Wallis-Test\n",
    "stat, p = kruskal(*grouped_scores)\n",
    "\n",
    "print(f\"Kruskal–Wallis-Test: H = {stat:.3f}, p = {p:.4e}\")"
   ]
  },
  {
   "cell_type": "code",
   "execution_count": null,
   "id": "d9bcca60",
   "metadata": {},
   "outputs": [],
   "source": [
    "clusters = merged_df[\"cluster\"].unique()\n",
    "\n",
    "# Plot per Cluster\n",
    "for cluster_name in clusters:\n",
    "    subset = merged_df[merged_df[\"cluster\"] == cluster_name].sort_values(\"binding_score\", ascending=False)\n",
    "\n",
    "    plt.figure(figsize=(8, 4))\n",
    "    sns.barplot(data=subset, x=\"pdb_id\", y=\"binding_score\", palette=\"viridis\")\n",
    "    plt.title(f\"Binding Score pro PDB – {cluster_name}, {section.capitalize()}\")\n",
    "    plt.xlabel(\"PDB ID\")\n",
    "    plt.ylabel(\"Binding Score\")\n",
    "    plt.xticks(rotation=45, ha=\"right\")\n",
    "    plt.tight_layout()\n",
    "    plt.show()\n",
    "    plt.savefig(f\"plots/structural_analysis/statistical_analysis/{section.capitalize()}/{section}_Binding Score pro PDB – {cluster_name}.pdf\", bbox_inches='tight')\n",
    "\n"
   ]
  }
 ],
 "metadata": {
  "kernelspec": {
   "display_name": "bioinfo_env",
   "language": "python",
   "name": "python3"
  },
  "language_info": {
   "codemirror_mode": {
    "name": "ipython",
    "version": 3
   },
   "file_extension": ".py",
   "mimetype": "text/x-python",
   "name": "python",
   "nbconvert_exporter": "python",
   "pygments_lexer": "ipython3",
   "version": "3.13.2"
  }
 },
 "nbformat": 4,
 "nbformat_minor": 5
}
