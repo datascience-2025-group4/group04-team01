{
 "cells": [
  {
   "cell_type": "code",
   "execution_count": 3,
   "metadata": {},
   "outputs": [],
   "source": [
    "# Import statements\n",
    "import numpy as numpy\n",
    "import pandas as pd\n",
    "import seaborn as sns #for plotting\n",
    "import matplotlib.pyplot as plt\n",
    "import random"
   ]
  },
  {
   "cell_type": "code",
   "execution_count": 4,
   "metadata": {},
   "outputs": [],
   "source": [
    "# Define datasets for individual inhibitory checkpoints\n",
    "data = pd.read_csv('data/ab_ag.tsv', sep='\\t')\n",
    "pd1 = data[data['compound'].str.contains('PD-1', na=False)]\n",
    "pdl1 = data[data['compound'].str.contains('PD-L1', na=False)]\n",
    "ctla4 = data[data['compound'].str.contains('CTLA-4', na=False)]\n",
    "kir = data[data['compound'].str.contains('KIR', na=False)]\n",
    "lag3 = data[data['compound'].str.contains('LAG', na=False)]\n",
    "tim3 = data[data['compound'].str.contains('TIM3', na=False)]"
   ]
  },
  {
   "cell_type": "code",
   "execution_count": 5,
   "metadata": {},
   "outputs": [],
   "source": [
    "# Filter out necessary columns\n",
    "pd1 = pd1[['pdb', 'Hchain', 'Lchain', 'antigen_chain', 'antigen_type', 'antigen_name', 'compound', 'resolution', 'method']]\n",
    "pdl1 = pdl1[['pdb', 'Hchain', 'Lchain', 'antigen_chain', 'antigen_type', 'antigen_name', 'compound', 'resolution', 'method']]\n",
    "ctla4 = ctla4[['pdb', 'Hchain', 'Lchain', 'antigen_chain', 'antigen_type', 'antigen_name', 'compound', 'resolution', 'method']]\n",
    "kir = kir[['pdb', 'Hchain', 'Lchain', 'antigen_chain', 'antigen_type', 'antigen_name', 'compound', 'resolution', 'method']]\n",
    "lag3 = lag3[['pdb', 'Hchain', 'Lchain', 'antigen_chain', 'antigen_type', 'antigen_name', 'compound', 'resolution', 'method']]\n",
    "tim3 = tim3[['pdb', 'Hchain', 'Lchain', 'antigen_chain', 'antigen_type', 'antigen_name', 'compound', 'resolution', 'method']]"
   ]
  },
  {
   "cell_type": "code",
   "execution_count": 6,
   "metadata": {},
   "outputs": [],
   "source": [
    "combined_dataset = [pdl1, pd1, ctla4, kir, lag3, tim3]\n",
    "\n",
    "# Shuffle the list randomly\n",
    "random.shuffle(combined_dataset)\n",
    "\n",
    "# Concatenate them in the new random order\n",
    "merged_df = pd.concat(combined_dataset, ignore_index=True)\n",
    "shuffled_df = merged_df.sample(frac=1).reset_index(drop=True)"
   ]
  },
  {
   "cell_type": "code",
   "execution_count": 7,
   "metadata": {},
   "outputs": [],
   "source": [
    "shuffled_df = shuffled_df[shuffled_df['resolution'] < 3.5]\n",
    "shuffled_df = shuffled_df.dropna()"
   ]
  },
  {
   "cell_type": "code",
   "execution_count": 8,
   "metadata": {},
   "outputs": [
    {
     "name": "stdout",
     "output_type": "stream",
     "text": [
      "                                     antigen_name  \\\n",
      "0                programmed cell death 1 ligand 1   \n",
      "1                cytotoxic t-lymphocyte protein 4   \n",
      "2                 programmed cell death protein 1   \n",
      "3           hepatitis a virus cellular receptor 2   \n",
      "4                 programmed cell death protein 1   \n",
      "5                 programmed cell death protein 1   \n",
      "6                 programmed cell death protein 1   \n",
      "7                 programmed cell death protein 1   \n",
      "8                 programmed cell death protein 1   \n",
      "9                 programmed cell death protein 1   \n",
      "10                programmed cell death protein 1   \n",
      "11           lymphocyte activation gene 3 protein   \n",
      "12                programmed cell death protein 1   \n",
      "13                programmed cell death protein 1   \n",
      "14                programmed cell death protein 1   \n",
      "15               cytotoxic t-lymphocyte protein 4   \n",
      "16               cytotoxic t-lymphocyte protein 4   \n",
      "17                programmed cell death protein 1   \n",
      "18                programmed cell death protein 1   \n",
      "19                programmed cell death protein 1   \n",
      "20                programmed cell death protein 1   \n",
      "21                                        unknown   \n",
      "22                                        unknown   \n",
      "23               cytotoxic t-lymphocyte protein 4   \n",
      "24               programmed cell death 1 ligand 1   \n",
      "25                programmed cell death protein 1   \n",
      "26               programmed cell death 1 ligand 1   \n",
      "27               programmed cell death 1 ligand 1   \n",
      "28               programmed cell death 1 ligand 1   \n",
      "29               programmed cell death 1 ligand 1   \n",
      "30               programmed cell death 1 ligand 1   \n",
      "31               programmed cell death 1 ligand 1   \n",
      "32  killer cell immunoglobulin-like receptor 2dl3   \n",
      "33               cytotoxic t-lymphocyte protein 4   \n",
      "34               cytotoxic t-lymphocyte protein 4   \n",
      "35               cytotoxic t-lymphocyte protein 4   \n",
      "36               cytotoxic t-lymphocyte protein 4   \n",
      "37               cytotoxic t-lymphocyte protein 4   \n",
      "38               cytotoxic t-lymphocyte protein 4   \n",
      "39               cytotoxic t-lymphocyte protein 4   \n",
      "40                                        unknown   \n",
      "\n",
      "                                             compound  count  \n",
      "0                  PD-L1 in complex with atezolizumab      5  \n",
      "1     Complex structure of ipilimumab-scFv and CTLA-4      4  \n",
      "2   High resolution structure of the human PD-1 in...      4  \n",
      "3        FAB PART OF M6903 IN COMPLEX WITH HUMAN TIM3      4  \n",
      "4     Crystal structure of PD-1 in complex with a Fab      3  \n",
      "5                  PD-1 in complex with nivolumab Fab      2  \n",
      "6   Crystal structure of Fab of a PD-1 monoclonal ...      2  \n",
      "7   Crystal structure of PD-1 in complex with tisl...      2  \n",
      "8   High-resolution structure of the cemiplimab Fa...      2  \n",
      "9   Human PD-1 ectodomain complexed with Pembroliz...      2  \n",
      "10  N-Glycosylation of PD-1 and glycosylation depe...      2  \n",
      "11  LAG3 ectodomain structure reveals functional i...      2  \n",
      "12     Complex structure of PD-1 and tislelizumab Fab      2  \n",
      "13             PD-1 in complex with pembrolizumab Fab      2  \n",
      "14       The complex structure of PD-1 and cemiplimab      2  \n",
      "15  Crystal structure of an acidic pH-selective Ip...      2  \n",
      "16  Crystal structure of Anti-CTLA-4 Fab (9D9) in ...      2  \n",
      "17                   PD-1 in complex with Dostarlimab      1  \n",
      "18  Structural basis of HLX10 PD-1 receptor recogn...      1  \n",
      "19   Structure of Sasanlimab Fab in complex with PD-1      1  \n",
      "20  Study of the interactions of a novel monoclona...      1  \n",
      "21  Crystal Structure of Ipilimumab Fab complexed ...      1  \n",
      "22  Structure of the first-in-class checkpoint inh...      1  \n",
      "23            CTLA-4 in complex with tremelimumab Fab      1  \n",
      "24  Structure of S79 Fab in complex with IgV domai...      1  \n",
      "25        Complex structure of PD-1 and nivolumab-Fab      1  \n",
      "26  The structure of the bispecific antibody targe...      1  \n",
      "27                   PD-L1 in complex with durvalumab      1  \n",
      "28               PD-L1 in complex with BMS-936559 Fab      1  \n",
      "29  Crystal structure of human PD-L1 with monoclon...      1  \n",
      "30         Complex structure of durvalumab-scFv/PD-L1      1  \n",
      "31   Complex structure of PD-L1 with atezolizumab Fab      1  \n",
      "32  Crystal structure of Fab-Lirilumab bound to KI...      1  \n",
      "33            The crystal structure of CTLA-4 and Fab      1  \n",
      "34  Structure of the first-in-class checkpoint inh...      1  \n",
      "35  Crystal structure of engineered Ipilimumab (mi...      1  \n",
      "36  Crystal structure of engineered Ipilimumab (mi...      1  \n",
      "37  Crystal structure of an acidic pH-selective Ip...      1  \n",
      "38  Crystal structure of CTLA-4 complexed with the...      1  \n",
      "39  Crystal Structure of Ipilimumab Fab complexed ...      1  \n",
      "40            The crystal structure of CTLA-4 and Fab      1  \n"
     ]
    }
   ],
   "source": [
    "#count how often each antibody is used\n",
    "shuffled_df['compound'].value_counts()\n",
    "\n",
    "# Count how often each antigen appears\n",
    "shuffled_df['antigen_name'].value_counts()\n",
    "\n",
    "# count \n",
    "counts = shuffled_df[['antigen_name', 'compound']].value_counts().reset_index(name='count')\n",
    "print(counts)\n"
   ]
  }
 ],
 "metadata": {
  "kernelspec": {
   "display_name": "bioinfo_env",
   "language": "python",
   "name": "python3"
  },
  "language_info": {
   "codemirror_mode": {
    "name": "ipython",
    "version": 3
   },
   "file_extension": ".py",
   "mimetype": "text/x-python",
   "name": "python",
   "nbconvert_exporter": "python",
   "pygments_lexer": "ipython3",
   "version": "3.13.2"
  }
 },
 "nbformat": 4,
 "nbformat_minor": 2
}
